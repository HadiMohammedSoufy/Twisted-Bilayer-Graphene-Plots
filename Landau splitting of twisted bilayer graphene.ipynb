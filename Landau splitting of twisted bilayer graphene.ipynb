{
 "cells": [
  {
   "cell_type": "code",
   "execution_count": 17,
   "id": "ebd2746e",
   "metadata": {},
   "outputs": [],
   "source": [
    "from numpy import *\n",
    "import matplotlib.pyplot as plt\n",
    "import numpy as np\n",
    "from qutip import *\n",
    "\n",
    "#define constant\n",
    "theta  = 1.074   #1.074 is magic angle         #degree\n",
    "omega  = 0.110          #mev\n",
    "d      = 1.420          #angstrom, whatever is ok.\n",
    "hv     = 1.5*d*2.8     #meV*angstrom, Fermi velocity for SLG\n",
    "N      = 11              #truncate range\n",
    "valley = -1            #+1 for K, -1 for K'\n",
    "\n",
    "\n",
    "#tune parameters\n",
    "theta  = theta/180.0*np.pi  \n",
    "alpha  = 0.005414/np.sin(theta/2)            #obtained after computing w/(vf*k_theta)\n",
    "hv1    = hv*(1-3*alpha**2)/(1+6*alpha**2)    #renormalized fermi velocity\n",
    "ei120  = cos(2*pi/3) + valley*1j*sin(2*pi/3)\n",
    "ei240  = cos(2*pi/3) - valley*1j*sin(2*pi/3)\n",
    "\n",
    "ktheta = 8*np.pi*sin(theta/2)/3/sqrt(3)/d\n",
    "qb     = ktheta*array([0, 1])\n",
    "K1     = ktheta*array([sqrt(3)/2,0.5])    #Changed\n",
    "K2     = ktheta*array([-sqrt(3)/2,0.5])\n",
    "\n",
    "Tqb    = omega*np.array([[1,1], [1,1]], dtype=complex)\n",
    "Tqtr   = omega*np.array([[ei120, 1], [ei240, ei120]], dtype=complex)\n",
    "Tqtl   = omega*np.array([[ei240, 1], [ei120, ei240]], dtype=complex)\n",
    "TqbD   = np.array(np.matrix(Tqb).H)\n",
    "TqtrD  = np.array(np.matrix(Tqtr).H)\n",
    "TqtlD  = np.array(np.matrix(Tqtl).H)\n",
    "\n",
    "def Hamiltonian(N,B):\n",
    "    \n",
    "    H = array(zeros((8*N, 8*N)), dtype=complex)\n",
    "    \n",
    "    kx=(0.5*np.sqrt(2*e*B)*(destroy(N)+destroy(N).dag()))\n",
    "    ky=(0.5j*np.sqrt(2*e*B)*(destroy(N)-destroy(N).dag()))\n",
    "    \n",
    "    qx=kx*np.cos(theta/2)-ky*np.sin(theta/2)\n",
    "    qy=kx*np.sin(theta/2)+ky*np.cos(theta/2)\n",
    "    qx1=(kx+qb[0])*np.cos(theta/2)+(ky+qb[1])*np.sin(theta/2)\n",
    "    qy1=-(kx+qb[0])*np.sin(theta/2)+(ky+qb[1])*np.cos(theta/2)\n",
    "    qx2=(kx+K1[0])*np.cos(theta/2)+(ky+K1[1])*np.sin(theta/2)\n",
    "    qy2=-(kx+K1[0])*np.sin(theta/2)+(ky+K1[1])*np.cos(theta/2)\n",
    "    qx3=(kx+K2[0])*np.cos(theta/2)+(ky+K2[1])*np.sin(theta/2)\n",
    "    qy3=-(kx+K2[0])*np.sin(theta/2)+(ky+K2[1])*np.cos(theta/2)\n",
    "    \n",
    "    upper=Qobj([[0,1],[0,0]])\n",
    "    lower=Qobj([[0,0],[1,0]])\n",
    "    \n",
    "    H11=valley*hv*(tensor(upper,qx+1j*qy,)+tensor(lower,qx-1j*qy)).full()\n",
    "    H22=valley*hv*(tensor(upper,qx1+1j*qy1,)+tensor(lower,qx1-1j*qy1)).full()\n",
    "    H33=valley*hv*(tensor(upper,qx2+1j*qy2)+tensor(lower,qx2-1j*qy2)).full()\n",
    "    H44=valley*hv*(tensor(upper,qx3+1j*qy3)+tensor(lower,qx3-1j*qy3)).full()\n",
    "\n",
    "    H[0:2*N,0:2*N]=H11\n",
    "    H[2*N:4*N,2*N:4*N]=H22\n",
    "    H[4*N:6*N,4*N:6*N]=H33\n",
    "    H[6*N:8*N,6*N:8*N]=H44\n",
    "    \n",
    "    \n",
    "    H[0:2*N,2*N:4*N]=tensor(identity(N),Qobj(Tqb)).full()\n",
    "    H[0:2*N,4*N:6*N]=tensor(identity(N),Qobj(Tqtr)).full()\n",
    "    H[0:2*N,6*N:8*N]=tensor(identity(N),Qobj(Tqtl)).full()\n",
    "    H[2*N:4*N,0:2*N]=tensor(identity(N),Qobj(TqbD)).full()\n",
    "    H[4*N:6*N,0:2*N]=tensor(identity(N),Qobj(TqtrD)).full()\n",
    "    H[6*N:8*N,0:2*N]=tensor(identity(N),Qobj(TqtlD)).full()\n",
    "    \n",
    "    eigenvalue,featurevector=np.linalg.eig(H)\n",
    "    eig_vals_sorted = np.sort(eigenvalue)\n",
    "    return eig_vals_sorted\n"
   ]
  },
  {
   "cell_type": "code",
   "execution_count": 19,
   "id": "848598b3",
   "metadata": {},
   "outputs": [
    {
     "name": "stderr",
     "output_type": "stream",
     "text": [
      "No artists with labels found to put in legend.  Note that artists whose label start with an underscore are ignored when legend() is called with no argument.\n"
     ]
    },
    {
     "data": {
      "image/png": "[encoded data removed]",
      "text/plain": [
       "<Figure size 640x480 with 1 Axes>"
      ]
     },
     "metadata": {},
     "output_type": "display_data"
    }
   ],
   "source": [
    "wc=10             #cylcotron frequency tunable\n",
    "B=wc**2/(2*hv**2)\n",
    "\n",
    "#eigenvalue=[]\n",
    "\n",
    "eigenvalue=sorted(Hamiltonian(N,B))\n",
    "\n",
    "\n",
    "positive_eigenvalue=[a for a in eigenvalue if a>=0]\n",
    "\n",
    "X_range=np.arange(0,len(positive_eigenvalue))\n",
    "\n",
    "\n",
    "\n",
    "plt.scatter(X_range,positive_eigenvalue)\n",
    "plt.xlabel('n')\n",
    "plt.ylabel('Energy $(eV)$')\n",
    "plt.title(f'Monolayer Graphene Splitting $\\omega_c=103$')\n",
    "plt.legend()\n",
    "plt.grid(True)\n",
    "plt.show()"
   ]
  },
  {
   "cell_type": "code",
   "execution_count": null,
   "id": "09ae8642",
   "metadata": {},
   "outputs": [],
   "source": []
  },
  {
   "cell_type": "code",
   "execution_count": null,
   "id": "572738ab",
   "metadata": {},
   "outputs": [],
   "source": []
  }
 ],
 "metadata": {
  "kernelspec": {
   "display_name": "Python 3 (ipykernel)",
   "language": "python",
   "name": "python3"
  },
  "language_info": {
   "codemirror_mode": {
    "name": "ipython",
    "version": 3
   },
   "file_extension": ".py",
   "mimetype": "text/x-python",
   "name": "python",
   "nbconvert_exporter": "python",
   "pygments_lexer": "ipython3",
   "version": "3.11.6"
  }
 },
 "nbformat": 4,
 "nbformat_minor": 5
}
